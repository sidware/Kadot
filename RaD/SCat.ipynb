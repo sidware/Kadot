{
 "cells": [
  {
   "cell_type": "markdown",
   "metadata": {},
   "source": [
    "# SCat Research and Developement\n",
    "\n",
    "The goal of this notebook is to use a recurrent neural network (GRU or LSTM) to learn to extract keyword in a text. This model will be used to extract arguments in a natural language request.\n",
    "\n",
    "Each word will be submitted to a recurrent neural network unit, each unit take a word vector as the input and return some feature about the word being an \"argument\", here a city. These feature will be send to a single neuron that will tranform them into a probability.\n",
    "\n",
    "To achieve this, the text input has to be tokenized and each word as to be transformed into a vector.\n",
    "\n",
    "Usually, the word vector need to be calculated using something like GloVe or Word2Vec butfor simplicity reasons we will use a simple 1-hot encoding."
   ]
  },
  {
   "cell_type": "code",
   "execution_count": 1,
   "metadata": {},
   "outputs": [],
   "source": [
    "import torch\n",
    "\n",
    "tokenizer = lambda text: text.split()\n",
    "\n",
    "def vectorizer(tokens):\n",
    "    vocabulary = list(set(tokens))\n",
    "    embedding = dict()\n",
    "    \n",
    "    for word_index, word in enumerate(vocabulary):\n",
    "        word_vec = torch.zeros(len(vocabulary))\n",
    "        word_vec[word_index] = 1\n",
    "        embedding[word] = word_vec\n",
    "        \n",
    "    return embedding"
   ]
  },
  {
   "cell_type": "markdown",
   "metadata": {},
   "source": [
    "Now let's write the model, I will use a simple GRU cell as the encoder and a raw non-recurrent layer activated by softmax as the decoder."
   ]
  },
  {
   "cell_type": "code",
   "execution_count": 2,
   "metadata": {},
   "outputs": [],
   "source": [
    "from torch import nn\n",
    "from torch.autograd import Variable\n",
    "\n",
    "\n",
    "class SCatCell(nn.Module):\n",
    "    def __init__(self, input_size, hidden_size, output_size):\n",
    "        super(SCatCell, self).__init__()\n",
    "        self.hidden_size = hidden_size\n",
    "        \n",
    "        self.encoder = nn.GRUCell(input_size, hidden_size)\n",
    "        self.decoder = nn.Linear(hidden_size, output_size)\n",
    "        \n",
    "    def forward(self, input, hidden):\n",
    "        next_hidden_state = self.encoder(input, hidden)\n",
    "        output = self.decoder(next_hidden_state.view(self.hidden_size))\n",
    "        \n",
    "        return next_hidden_state, output\n",
    "    \n",
    "    def init_hidden(self):\n",
    "        return Variable(torch.zeros(1, self.hidden_size))\n"
   ]
  },
  {
   "cell_type": "markdown",
   "metadata": {},
   "source": [
    "Now we just need to prepare a simple dataset and train the model !\n",
    "\n",
    "The dataset is a simple collection of only six weather question, the goal is for the network to identify the city in the sentence like in a supervised classifcation problem."
   ]
  },
  {
   "cell_type": "code",
   "execution_count": 3,
   "metadata": {},
   "outputs": [],
   "source": [
    "train_x = [\n",
    "    \"What is the weather like in Paris ?\",\n",
    "    \"What kind of weather will it do in London ?\",\n",
    "    \"Give me the weather forecast in Berlin please .\",\n",
    "    \"Tell me the forecast in New York !\",\n",
    "    \"Give me the weather in San Francisco ...\",\n",
    "    \"I want the forecast in Dublin .\"\n",
    "]\n",
    "train_y = [\n",
    "    ('Paris'),\n",
    "    ('London'),\n",
    "    ('Berlin'),\n",
    "    ('New', 'York'),\n",
    "    ('San', 'Francisco'),\n",
    "    ('Dublin')\n",
    "]"
   ]
  },
  {
   "cell_type": "markdown",
   "metadata": {},
   "source": [
    "Finally, train the model !"
   ]
  },
  {
   "cell_type": "code",
   "execution_count": 4,
   "metadata": {},
   "outputs": [
    {
     "name": "stdout",
     "output_type": "stream",
     "text": [
      "Epoch 0 - Loss: 0.0117\n",
      "Epoch 100 - Loss: 0.0007\n",
      "Epoch 200 - Loss: 0.0003\n",
      "Epoch 300 - Loss: 0.0002\n",
      "Epoch 400 - Loss: 0.0001\n",
      "Epoch 500 - Loss: 0.0\n",
      "Epoch 600 - Loss: 0.0\n",
      "Epoch 700 - Loss: 0.0\n",
      "Epoch 800 - Loss: 0.0\n",
      "Epoch 900 - Loss: 0.0\n"
     ]
    }
   ],
   "source": [
    "from torch import optim\n",
    "\n",
    "learning_rate = 0.001\n",
    "n_epoch = 1000\n",
    "\n",
    "embeddings = vectorizer(tokenizer(' '.join(train_x + ['Los', 'Angeles']))) # add a city not in the training set for testing\n",
    "\n",
    "model = SCatCell(len(embeddings), 10, 1)\n",
    "optimizer = optim.Adam(model.parameters(), lr=learning_rate)\n",
    "loss = nn.MSELoss()\n",
    "\n",
    "for epoch in range(n_epoch):    \n",
    "    for s_x, s_y in zip([tokenizer(t) for t in train_x], train_y):\n",
    "        hidden_state = model.init_hidden()\n",
    "        \n",
    "        ys = Variable(torch.FloatTensor([0]))\n",
    "        preds = Variable(torch.FloatTensor([0]), requires_grad=True)\n",
    "        for word in s_x:\n",
    "            word_vec = Variable(embeddings[word].view(1, len(embeddings)))\n",
    "            word_y = Variable(torch.FloatTensor([int(word in s_y) / len(s_y)]))\n",
    "            \n",
    "            hidden_state, pred = model(word_vec, hidden_state)\n",
    "\n",
    "            ys = torch.cat((ys, word_y), 0)\n",
    "            preds = torch.cat((preds, pred), 0)\n",
    "        \n",
    "        \n",
    "        error = loss(preds, ys)\n",
    "        error.backward()\n",
    "        optimizer.step()\n",
    "        optimizer.zero_grad()\n",
    "    \n",
    "    if epoch % 100 == 0:\n",
    "        print(\"Epoch {} - Loss: {}\".format(epoch, round(float(error), 4)))"
   ]
  },
  {
   "cell_type": "markdown",
   "metadata": {},
   "source": [
    "Learning seems a bit too easy but, anyway, let's check a training sample !"
   ]
  },
  {
   "cell_type": "code",
   "execution_count": 5,
   "metadata": {},
   "outputs": [
    {
     "name": "stdout",
     "output_type": "stream",
     "text": [
      "Give 7.063150405883789e-06\n",
      "me 4.3682754039764404e-05\n",
      "the 4.016607999801636e-05\n",
      "forecast 0.0023935437202453613\n",
      "in 0.08705766499042511\n",
      "Los 0.18460620939731598\n",
      "Angeles 0.42705148458480835\n"
     ]
    }
   ],
   "source": [
    "x = \"Give me the forecast in Los Angeles\"\n",
    "s_x = tokenizer(x)\n",
    "hidden_state = model.init_hidden()\n",
    "preds = []\n",
    "\n",
    "for word in s_x:\n",
    "    word_vec = Variable(embeddings[word].view(1, len(embeddings)))\n",
    "    hidden_state, pred = model(word_vec, hidden_state)\n",
    "    preds.append(float(pred))\n",
    "    \n",
    "    print(word, float(pred))"
   ]
  },
  {
   "cell_type": "code",
   "execution_count": 6,
   "metadata": {},
   "outputs": [
    {
     "data": {
      "text/plain": [
       "<Container object of 7 artists>"
      ]
     },
     "execution_count": 6,
     "metadata": {},
     "output_type": "execute_result"
    },
    {
     "data": {
      "image/png": "[encoded data removed]",
      "text/plain": [
       "<matplotlib.figure.Figure at 0x7f68087c3358>"
      ]
     },
     "metadata": {},
     "output_type": "display_data"
    }
   ],
   "source": [
    "import matplotlib.pyplot as plt\n",
    "%matplotlib inline\n",
    "\n",
    "plt.figure()\n",
    "plt.bar(range(len(preds)), preds)"
   ]
  },
  {
   "cell_type": "markdown",
   "metadata": {},
   "source": [
    "Results are quite encouraging, now it's time to define a... let's say a *SCat Argument Determination Algorithm* to transform network output into words.\n",
    "We could transform prediction into probabilities using softmax, this transformation will help the model to be stable.\n",
    "A good way to identify an argument to a non-argument is by getting words that are the most higher to the mean so we could substract the mean to each probailities."
   ]
  },
  {
   "cell_type": "code",
   "execution_count": 7,
   "metadata": {},
   "outputs": [
    {
     "name": "stderr",
     "output_type": "stream",
     "text": [
      "/usr/local/lib/python3.5/dist-packages/ipykernel_launcher.py:4: UserWarning: Implicit dimension choice for softmax has been deprecated. Change the call to include dim=X as an argument.\n",
      "  after removing the cwd from sys.path.\n"
     ]
    },
    {
     "data": {
      "text/plain": [
       "<Container object of 7 artists>"
      ]
     },
     "execution_count": 7,
     "metadata": {},
     "output_type": "execute_result"
    },
    {
     "data": {
      "image/png": "[encoded data removed]",
      "text/plain": [
       "<matplotlib.figure.Figure at 0x7f67fd211f98>"
      ]
     },
     "metadata": {},
     "output_type": "display_data"
    },
    {
     "data": {
      "image/png": "[encoded data removed]",
      "text/plain": [
       "<matplotlib.figure.Figure at 0x7f67fd1f4c50>"
      ]
     },
     "metadata": {},
     "output_type": "display_data"
    }
   ],
   "source": [
    "from torch.nn import functional as F\n",
    "\n",
    "preds = Variable(torch.FloatTensor(preds))\n",
    "preds = F.softmax(preds)\n",
    "preds = preds.data\n",
    "\n",
    "plt.figure()\n",
    "plt.bar(range(len(preds)), [float(el) for el in preds])\n",
    "\n",
    "preds = preds - preds.mean()\n",
    "preds = [float(el) for el in preds]\n",
    "\n",
    "plt.figure()\n",
    "plt.bar(range(len(preds)), preds)"
   ]
  },
  {
   "cell_type": "markdown",
   "metadata": {},
   "source": [
    "Using this method, we have cancelled small values, they are forced to be negative. We could just need to select positive values."
   ]
  },
  {
   "cell_type": "code",
   "execution_count": 8,
   "metadata": {},
   "outputs": [
    {
     "name": "stdout",
     "output_type": "stream",
     "text": [
      "['Los', 'Angeles']\n"
     ]
    }
   ],
   "source": [
    "selected_words = []\n",
    "\n",
    "for index, pred in enumerate(preds):\n",
    "    if pred > 0:\n",
    "        selected_words.append(s_x[index])\n",
    "        \n",
    "print(selected_words)"
   ]
  },
  {
   "cell_type": "markdown",
   "metadata": {},
   "source": [
    "It work just fine ! Tried with many other example and the result are quite robust for the size of the dataset."
   ]
  },
  {
   "cell_type": "code",
   "execution_count": null,
   "metadata": {},
   "outputs": [],
   "source": []
  }
 ],
 "metadata": {
  "kernelspec": {
   "display_name": "Python 3",
   "language": "python",
   "name": "python3"
  },
  "language_info": {
   "codemirror_mode": {
    "name": "ipython",
    "version": 3
   },
   "file_extension": ".py",
   "mimetype": "text/x-python",
   "name": "python",
   "nbconvert_exporter": "python",
   "pygments_lexer": "ipython3",
   "version": "3.5.2"
  }
 },
 "nbformat": 4,
 "nbformat_minor": 2
}
