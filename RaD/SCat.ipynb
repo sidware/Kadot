{
 "cells": [
  {
   "cell_type": "markdown",
   "metadata": {},
   "source": [
    "# SCat Algorithm\n",
    "\n",
    "I have pushed multiple iterations of a simple sequence labeling algorithm called SCat. This iteration is the first version that will be implemented in Kadot to be part of the *Bot Engine*.\n",
    "\n",
    "The final algorithm use a mono-directional (because we read in only one way) LSTM to encode features from the text and we decode the feature using a simple layer to produce the final classification.\n",
    "\n",
    "![SCat Algorithm](https://raw.githubusercontent.com/the-new-sky/Kadot/1.0dev/RaD/SCat.jpg \"SCat Algorithm\")\n",
    "\n",
    "Let's start by defining our small training dataset."
   ]
  },
  {
   "cell_type": "code",
   "execution_count": 1,
   "metadata": {},
   "outputs": [],
   "source": [
    "# Find the city in a weather related query\n",
    "\n",
    "train_x = [\n",
    "    \"What is the weather like in Paris ?\",\n",
    "    \"What kind of weather will it do in London ?\",\n",
    "    \"Give me the weather forecast in Berlin please .\",\n",
    "    \"Tell me the forecast in New York !\",\n",
    "    \"Give me the weather in San Francisco ...\",\n",
    "    \"I want the forecast in Dublin .\"\n",
    "]\n",
    "\n",
    "train_y = [\n",
    "    ('Paris',),\n",
    "    ('London',),\n",
    "    ('Berlin',),\n",
    "    ('New', 'York'),\n",
    "    ('San', 'Francisco'),\n",
    "    ('Dublin',)\n",
    "]"
   ]
  },
  {
   "cell_type": "code",
   "execution_count": 2,
   "metadata": {},
   "outputs": [],
   "source": [
    "tokenizer = lambda x: x.split(' ')\n",
    "vocabulary = sorted(set(tokenizer(' '.join(train_x) + ' <unknown>')))"
   ]
  },
  {
   "cell_type": "markdown",
   "metadata": {},
   "source": [
    "Now import all the modules we will need."
   ]
  },
  {
   "cell_type": "code",
   "execution_count": 3,
   "metadata": {},
   "outputs": [],
   "source": [
    "import torch\n",
    "from torch.autograd import Variable\n",
    "from torch import nn, optim\n",
    "import torch.nn.functional as F\n",
    "import numpy as np"
   ]
  },
  {
   "cell_type": "markdown",
   "metadata": {},
   "source": [
    "It's now time to write our network as described before."
   ]
  },
  {
   "cell_type": "code",
   "execution_count": 4,
   "metadata": {},
   "outputs": [],
   "source": [
    "class SCatNetwork(nn.Module):\n",
    "    def __init__(self, vocabulary_size, embedding_dimension, hidden_size):\n",
    "        super(SCatNetwork, self).__init__()\n",
    "        \n",
    "        self.embeddings = nn.Embedding(vocabulary_size, embedding_dimension)\n",
    "        self.encoder = nn.LSTM(  # a LSTM layer to encode features\n",
    "            embedding_dimension,\n",
    "            hidden_size,\n",
    "            batch_first=True,\n",
    "        )\n",
    "        self.decoder = nn.Linear(hidden_size, 2)\n",
    "    \n",
    "    def forward(self, inputs):\n",
    "        hc = (Variable(torch.ones(1, 1, 10)), Variable(torch.ones(1, 1, 10)))\n",
    "        \n",
    "        outputs = self.embeddings(inputs)\n",
    "        outputs, _ = self.encoder(outputs, hc)    \n",
    "        outputs = self.decoder(outputs)\n",
    "        return outputs"
   ]
  },
  {
   "cell_type": "markdown",
   "metadata": {},
   "source": [
    "We will also need a function to transform a sentence into a list (LongTensor) of index."
   ]
  },
  {
   "cell_type": "code",
   "execution_count": 5,
   "metadata": {},
   "outputs": [],
   "source": [
    "def vectorizer(sentence):\n",
    "    tokens = tokenizer(sentence)\n",
    "    vector = [vocabulary.index(token) if token in vocabulary else vocabulary.index('<unknown>') for token in tokens]\n",
    "    \n",
    "    return torch.LongTensor(vector)            "
   ]
  },
  {
   "cell_type": "markdown",
   "metadata": {},
   "source": [
    "Before training, let's test the whole network."
   ]
  },
  {
   "cell_type": "code",
   "execution_count": 6,
   "metadata": {},
   "outputs": [
    {
     "name": "stdout",
     "output_type": "stream",
     "text": [
      "What is the weather like in Paris ?\n",
      "Variable containing:\n",
      "   15    20    27    29    23    19    12     4\n",
      "[torch.LongTensor of size 1x8]\n",
      "\n",
      "SCatNetwork(\n",
      "  (embeddings): Embedding(31, 20)\n",
      "  (encoder): LSTM(20, 10, batch_first=True)\n",
      "  (decoder): Linear(in_features=10, out_features=2, bias=True)\n",
      ")\n",
      "\n"
     ]
    },
    {
     "data": {
      "text/plain": [
       "Variable containing:\n",
       "(0 ,.,.) = \n",
       "  0.1471  0.0173\n",
       "  0.0750  0.0669\n",
       " -0.0199 -0.0658\n",
       " -0.0773 -0.2239\n",
       "  0.0530 -0.2327\n",
       " -0.1172 -0.2223\n",
       " -0.0828 -0.2067\n",
       "  0.0318 -0.1589\n",
       "[torch.FloatTensor of size 1x8x2]"
      ]
     },
     "execution_count": 6,
     "metadata": {},
     "output_type": "execute_result"
    }
   ],
   "source": [
    "print(train_x[0])\n",
    "\n",
    "test_vec = Variable(vectorizer(train_x[0]).view(1, len(tokenizer(train_x[0]))))\n",
    "test_net = SCatNetwork(len(vocabulary), 20, 10)\n",
    "\n",
    "print(test_vec)\n",
    "print(str(test_net))\n",
    "print()\n",
    "\n",
    "test_net(test_vec)"
   ]
  },
  {
   "cell_type": "markdown",
   "metadata": {},
   "source": [
    "Now let's train the network with those hyperparameters :\n",
    "\n",
    " - **epoch** : 800\n",
    " - **learning rate** : 0.01\n",
    " - **optimizer** : Adam\n",
    " - **Loss function** : Cross-Entropy\n",
    " - **embedding dimension** : 20\n",
    " - **hidden layer size** : 10\n",
    " - **min probability tolerance** : 0.0001\n",
    " - **mean output ratio** : 75%\n",
    " - **N-gram range**: 1 - 10"
   ]
  },
  {
   "cell_type": "code",
   "execution_count": 7,
   "metadata": {},
   "outputs": [
    {
     "name": "stdout",
     "output_type": "stream",
     "text": [
      "Epoch 0 - Loss : 0.638474315404892\n",
      "Epoch 80 - Loss : 0.0003119074899586849\n",
      "Epoch 160 - Loss : 9.471087954201114e-05\n",
      "Epoch 240 - Loss : 4.483968010996856e-05\n",
      "Epoch 320 - Loss : 2.5974186125192016e-05\n",
      "Epoch 400 - Loss : 1.6693455563654425e-05\n",
      "Epoch 480 - Loss : 1.1401202148893693e-05\n",
      "Epoch 560 - Loss : 8.116763865473331e-06\n",
      "Epoch 640 - Loss : 5.943054247836699e-06\n",
      "Epoch 720 - Loss : 4.4373889143874594e-06\n",
      "Epoch 800 - Loss : 3.360752922768976e-06\n"
     ]
    }
   ],
   "source": [
    "n_epoch = 801\n",
    "learning_rate = 0.01\n",
    "mean_ratio = 0.75\n",
    "min_tolerance = 1e-04\n",
    "n_range = (1, 10+1)\n",
    "\n",
    "model = SCatNetwork(len(vocabulary), 20, 10)\n",
    "optimizer = optim.Adam(model.parameters(), lr=learning_rate)\n",
    "criterion = nn.CrossEntropyLoss()\n",
    "\n",
    "for epoch in range(n_epoch):\n",
    "    epoch_losses = []\n",
    "    \n",
    "    for sentence, goal in zip(train_x, train_y):\n",
    "        sentence_lenght = len(tokenizer(sentence))\n",
    "        goal = [1 if word in goal else 0 for word in tokenizer(sentence)]\n",
    "        \n",
    "        x = Variable(vectorizer(sentence).view(1, sentence_lenght))\n",
    "        y = Variable(torch.LongTensor(goal))\n",
    "        \n",
    "        model.zero_grad()\n",
    "        \n",
    "        preds = model(x)[0]\n",
    "        loss = criterion(preds, y)\n",
    "        epoch_losses.append(float(loss))\n",
    "        \n",
    "        loss.backward()\n",
    "        optimizer.step()\n",
    "        \n",
    "    if epoch % 80 == 0:\n",
    "        mean_loss = torch.FloatTensor(epoch_losses).mean()\n",
    "        print(\"Epoch {} - Loss : {}\".format(epoch, float(mean_loss)))"
   ]
  },
  {
   "cell_type": "markdown",
   "metadata": {},
   "source": [
    "Now let's test the model with this sentence : *Give me the latest weather forecast in Los Angeles*"
   ]
  },
  {
   "cell_type": "code",
   "execution_count": 8,
   "metadata": {},
   "outputs": [],
   "source": [
    "x = \"Give me the latest weather forecast in Los Angeles\"\n",
    "tokens = tokenizer(x)\n",
    "x_vec = Variable(vectorizer(x).view(1, len(tokens)))\n",
    "\n",
    "pred = F.softmax(model(x_vec), dim=2)[0, :,1].data"
   ]
  },
  {
   "cell_type": "markdown",
   "metadata": {},
   "source": [
    "Visualize the output of the network and apply a special transformation to it."
   ]
  },
  {
   "cell_type": "code",
   "execution_count": 9,
   "metadata": {},
   "outputs": [
    {
     "data": {
      "text/plain": [
       "<Container object of 9 artists>"
      ]
     },
     "execution_count": 9,
     "metadata": {},
     "output_type": "execute_result"
    },
    {
     "data": {
      "image/png": "[encoded data removed]",
      "text/plain": [
       "<matplotlib.figure.Figure at 0x7f79eaa7b438>"
      ]
     },
     "metadata": {},
     "output_type": "display_data"
    },
    {
     "data": {
      "image/png": "[encoded data removed]",
      "text/plain": [
       "<matplotlib.figure.Figure at 0x7f7a51f7dc18>"
      ]
     },
     "metadata": {},
     "output_type": "display_data"
    }
   ],
   "source": [
    "import matplotlib.pyplot as plt\n",
    "%matplotlib inline\n",
    "\n",
    "plt.figure()\n",
    "plt.bar(range(len(pred)), pred.tolist())\n",
    "\n",
    "# Apply the special transformation\n",
    "pred = (pred - min_tolerance - mean_ratio * pred.mean()) / pred.std()\n",
    "\n",
    "plt.figure()\n",
    "plt.bar(range(len(pred)), pred.tolist())"
   ]
  },
  {
   "cell_type": "code",
   "execution_count": 10,
   "metadata": {},
   "outputs": [
    {
     "data": {
      "text/plain": [
       "[('Give', -0.37811943888664246),\n",
       " ('me', -0.37811994552612305),\n",
       " ('the', -0.37812015414237976),\n",
       " ('latest', -0.37789979577064514),\n",
       " ('weather', -0.3781139552593231),\n",
       " ('forecast', -0.37811869382858276),\n",
       " ('in', -0.37810349464416504),\n",
       " ('Los', 1.9355530738830566),\n",
       " ('Angeles', 1.8426263332366943)]"
      ]
     },
     "execution_count": 10,
     "metadata": {},
     "output_type": "execute_result"
    }
   ],
   "source": [
    "word_with_scores = list(zip(tokens, pred.tolist()))\n",
    "word_with_scores"
   ]
  },
  {
   "cell_type": "markdown",
   "metadata": {},
   "source": [
    "Finally, find the most scored n-gram in the sentence."
   ]
  },
  {
   "cell_type": "code",
   "execution_count": 11,
   "metadata": {},
   "outputs": [
    {
     "data": {
      "text/plain": [
       "[('Los', 1.9355530738830566), ('Angeles', 1.8426263332366943)]"
      ]
     },
     "execution_count": 11,
     "metadata": {},
     "output_type": "execute_result"
    }
   ],
   "source": [
    "grams_with_scores = sum([list(zip(*[word_with_scores[i:] for i in range(n)])) for n in range(*n_range)], [])\n",
    "grams_with_scores.append([('', 0)])\n",
    "\n",
    "summed_gram_scores = [sum(list(zip(*gram))[1]) for gram in grams_with_scores]\n",
    "\n",
    "best_gram = list(grams_with_scores[summed_gram_scores.index(max(summed_gram_scores))])\n",
    "best_gram"
   ]
  },
  {
   "cell_type": "code",
   "execution_count": null,
   "metadata": {},
   "outputs": [],
   "source": []
  }
 ],
 "metadata": {
  "kernelspec": {
   "display_name": "Python 3",
   "language": "python",
   "name": "python3"
  },
  "language_info": {
   "codemirror_mode": {
    "name": "ipython",
    "version": 3
   },
   "file_extension": ".py",
   "mimetype": "text/x-python",
   "name": "python",
   "nbconvert_exporter": "python",
   "pygments_lexer": "ipython3",
   "version": "3.5.2"
  }
 },
 "nbformat": 4,
 "nbformat_minor": 2
}
